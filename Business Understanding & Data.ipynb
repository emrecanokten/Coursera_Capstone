{
    "cells": [
        {
            "cell_type": "markdown",
            "metadata": {
                "collapsed": true
            },
            "source": "# Business Understanding & Data"
        },
        {
            "cell_type": "markdown",
            "metadata": {},
            "source": "## Business Understanding"
        },
        {
            "cell_type": "markdown",
            "metadata": {},
            "source": "There are various factors contributing to the occurrence of a car accident in the highways. The main objective of this project is to create a machine learning model to predict the possibility of the car accident and how severe it would be according to given features such as weather and road conditions, so that people drive more carefully or even change their travel if they are able to. This model can be utilized to warn people to be especially mindful when travelling and to notify relevant authorities to be prepared for an accident with a certain severity level in given conditions and take immediate action to mitigate the consequences of it."
        },
        {
            "cell_type": "markdown",
            "metadata": {},
            "source": "## Data"
        },
        {
            "cell_type": "markdown",
            "metadata": {},
            "source": "The required data for this project is acquired from Seattle Open Data Portal [1]. It includes all types of collisions in the city from 2004 to present with the label of accident severity which defines the fatality of an accident. Apart from the label column, the dataset consists of 37 total attributes providing various types of information about location, date/time, weather and light conditions. Metadata form from the website provide a good description for all attributes.\n\nAfter investigating all the attributes in the dataset and performing the exploratory data analysis, it is concluded that initially selected attributes are the inattention contribution, the weather condition, the road condition, and the light condition of a car accident to train the machine learning model. Remaining attributes in the dataset will be removed to reduce the processing and memory load in the modelling."
        },
        {
            "cell_type": "markdown",
            "metadata": {},
            "source": "[1] [https://data-seattlecitygis.opendata.arcgis.com/datasets/5b5c745e0f1f48e7a53acec63a0022ab_0](https://data-seattlecitygis.opendata.arcgis.com/datasets/5b5c745e0f1f48e7a53acec63a0022ab_0)"
        }
    ],
    "metadata": {
        "kernelspec": {
            "display_name": "Python 3.6",
            "language": "python",
            "name": "python3"
        },
        "language_info": {
            "codemirror_mode": {
                "name": "ipython",
                "version": 3
            },
            "file_extension": ".py",
            "mimetype": "text/x-python",
            "name": "python",
            "nbconvert_exporter": "python",
            "pygments_lexer": "ipython3",
            "version": "3.6.9"
        }
    },
    "nbformat": 4,
    "nbformat_minor": 1
}